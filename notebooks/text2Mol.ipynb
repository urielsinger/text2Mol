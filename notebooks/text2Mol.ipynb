{
 "cells": [
  {
   "cell_type": "code",
   "execution_count": 1,
   "metadata": {
    "scrolled": true
   },
   "outputs": [],
   "source": [
    "import sys\n",
    "sys.path.append(r\"..\\src\")\n",
    "\n",
    "import os\n",
    "from os.path import join\n",
    "import numpy as np\n",
    "\n",
    "import pandas as pd\n",
    "import networkx as nx\n",
    "import datetime\n",
    "import matplotlib.pylab as plt\n",
    "from tqdm import tqdm\n",
    "\n",
    "import utils\n",
    "\n",
    "%load_ext autoreload\n",
    "%autoreload 2"
   ]
  },
  {
   "cell_type": "code",
   "execution_count": 2,
   "metadata": {},
   "outputs": [
    {
     "name": "stderr",
     "output_type": "stream",
     "text": [
      "100%|████████████████████████████████████████████████████████████████████████████████| 920/920 [53:27<00:00,  3.02s/it]\n"
     ]
    }
   ],
   "source": [
    "first=True\n",
    "folder_path = r'..\\dump\\data_pkl_vectorized'\n",
    "file_paths = os.listdir(folder_path)\n",
    "with tqdm(total=len(file_paths)) as pbar:\n",
    "    for file_path in file_paths:\n",
    "        df = pd.DataFrame(utils.load_object(join(folder_path,file_path)))\n",
    "        if first:\n",
    "            first = False\n",
    "            df.to_csv('papers.csv',header=True,mode='w',encoding='utf-8',index=False)\n",
    "        else:\n",
    "            df.to_csv('papers.csv',header=False,mode='a',encoding='utf-8',index=False)\n",
    "        pbar.update(1)"
   ]
  },
  {
   "cell_type": "code",
   "execution_count": 2,
   "metadata": {},
   "outputs": [],
   "source": [
    "df = pd.read_csv('papers.csv')"
   ]
  },
  {
   "cell_type": "code",
   "execution_count": 3,
   "metadata": {},
   "outputs": [
    {
     "name": "stderr",
     "output_type": "stream",
     "text": [
      "100%|█████████████████████████████████████████████████████████████████████| 2516139/2516139 [03:49<00:00, 10940.02it/s]\n"
     ]
    }
   ],
   "source": [
    "names = []\n",
    "with tqdm(total=len(df)) as pbar:\n",
    "    for _, row in df.iterrows():\n",
    "        for name,_ in eval(row['mul_list']):\n",
    "            names.append(name)\n",
    "        pbar.update(1)"
   ]
  },
  {
   "cell_type": "code",
   "execution_count": 14,
   "metadata": {},
   "outputs": [
    {
     "name": "stderr",
     "output_type": "stream",
     "text": [
      "100%|████████████████████████████████████████████████████████████████████████████| 1289/1289 [2:27:52<00:00,  1.20it/s]\n"
     ]
    }
   ],
   "source": [
    "name2smile = {}\n",
    "unique_names = np.unique(names)\n",
    "with tqdm(total=len(unique_names)) as pbar:\n",
    "    for unique_name in unique_names:\n",
    "        times = 5\n",
    "        while times>0:\n",
    "            try:\n",
    "                name2smile[unique_name] = utils.name2smile(unique_name)\n",
    "                break\n",
    "            except:\n",
    "                times-=1\n",
    "                \n",
    "        pbar.update(1)"
   ]
  },
  {
   "cell_type": "code",
   "execution_count": 25,
   "metadata": {},
   "outputs": [],
   "source": [
    "pd.DataFrame([[name,smile] for name,smile in name2smile.items()],columns=['name','smile']).to_csv('mol.csv',index=False)"
   ]
  },
  {
   "cell_type": "code",
   "execution_count": 7,
   "metadata": {
    "scrolled": false
   },
   "outputs": [
    {
     "data": {
      "text/html": [
       "<div>\n",
       "<style scoped>\n",
       "    .dataframe tbody tr th:only-of-type {\n",
       "        vertical-align: middle;\n",
       "    }\n",
       "\n",
       "    .dataframe tbody tr th {\n",
       "        vertical-align: top;\n",
       "    }\n",
       "\n",
       "    .dataframe thead th {\n",
       "        text-align: right;\n",
       "    }\n",
       "</style>\n",
       "<table border=\"1\" class=\"dataframe\">\n",
       "  <thead>\n",
       "    <tr style=\"text-align: right;\">\n",
       "      <th></th>\n",
       "      <th>title</th>\n",
       "      <th>author</th>\n",
       "      <th>country</th>\n",
       "      <th>abstract</th>\n",
       "      <th>journal</th>\n",
       "      <th>pmid</th>\n",
       "      <th>pubdate</th>\n",
       "      <th>molecules</th>\n",
       "    </tr>\n",
       "  </thead>\n",
       "  <tbody>\n",
       "    <tr>\n",
       "      <th>0</th>\n",
       "      <td>Metabolism of isolated fat cells from various tissue sites in the rat: influence of hemorrhagic hypotension.</td>\n",
       "      <td>R Storck; JA Spitzer</td>\n",
       "      <td>United States</td>\n",
       "      <td>The in vitro lipolytic response to norepinephrine by rat adipocytes from epididymal, subcutaneous, perirenal, mesenteric, and omental tissue sites was studied in control and hypotensive animals. Lipolysis per millimole of triglyceride was found to be three to four times higher in mesenteric and omental fat cells than in adipocytes of the other sites sampled. The high lipolytic activity of mesenteric and omental adipocytes was partly attributable to their smaller cell size; however, lipolysis per cell was also higher. Hemorrhagic hypotension caused a 50-60% decrease in lipolytic activity at four of the five sites studied. Adipocytes of omental origin maintained their lipolytic activity at the prehypotensive level, however, indicating that the metabolic adjustments brought about by hemorrhagic hypotension are not uniform at all adipose tissue sites.</td>\n",
       "      <td>Journal of lipid research</td>\n",
       "      <td>4827912</td>\n",
       "      <td>1974-05</td>\n",
       "      <td>['norepinephrine']</td>\n",
       "    </tr>\n",
       "    <tr>\n",
       "      <th>1</th>\n",
       "      <td>Chemical composition of uropygial gland secretions of owls.</td>\n",
       "      <td>J Jacob; J Poltz</td>\n",
       "      <td>United States</td>\n",
       "      <td>The compositions of the uropygial gland secretions of the long-eared owl, eagle owl, and barn owl have been determined. The waxes of the first two owls, which are closely related, are composed of 2-alkyl-substituted fatty acids and n- or monomethyl-branched alcohols with even-numbered branching positions. In addition, some dimethyl-substituted alkanols were observed. In contrast to these waxes, the secretion of the barn owl is composed of 3-methyl- and 3,5-, 3,7-, 3,9-, 3,11-, 3,13-, and 3,15-dimethyl-branched fatty acids and n- as well as monomethyl-substituted alkanols branched at positions 2, 3, and 4. The mass spectra of esters of 2-alkyl-substituted fatty acids are discussed.</td>\n",
       "      <td>Journal of lipid research</td>\n",
       "      <td>4827914</td>\n",
       "      <td>1974-05</td>\n",
       "      <td>['dimethyl', 'methyl']</td>\n",
       "    </tr>\n",
       "    <tr>\n",
       "      <th>2</th>\n",
       "      <td>Production of plasma esterified cholesterol in lean, normotriglyceridemic humans.</td>\n",
       "      <td>PJ Barter</td>\n",
       "      <td>United States</td>\n",
       "      <td>The rate of production of plasma esterified cholesterol was measured both in vivo and in vitro in seven subjects and in vivo alone in eight subjects. All subjects were lean, clinically healthy, and had triglyceride concentrations less than 1.5 micro moles/ml. In vivo production was calculated from the labeling of free and esterified cholesterol in plasma samples collected at 1-hr intervals for 8 hr after an intravenous injection of [(3)H]mevalonic acid, on the assumption that plasma free cholesterol was the sole immediate precursor of esterified cholesterol. In vitro production was measured in serum samples collected 1 hr after the injection of [(3)H]mevalonic acid (when radioactivity in esterified cholesterol was very low relative to that in free cholesterol); these samples were incubated for 1 hr at 37 degrees C. The rates measured in vivo and in vitro were very similar in the seven subjects, strengthening the confidence in the techniques. In vivo production was measured during the postabsorptive state in all 15 subjects and in 5 of them also during the last 8 hr of a 32-56-hr period when all calories were taken in three hourly meals of an 80% carbohydrate, fat-free formula. In the postabsorptive state there was no apparent relationship between the production of esterified cholesterol and the concentration of either free or esterified cholesterol. Rather, despite a wide range of cholesterol concentrations, esterified cholesterol production was similar in all subjects. During the carbohydrate consumption the esterified cholesterol concentrations were significantly lower than during the postabsorptive state, but there was virtually no change in rate of production. It has been concluded that the differences in concentration of esterified cholesterol in lean, normotriglyceridemic subjects cannot be explained solely on the basis of differences in its production.</td>\n",
       "      <td>Journal of lipid research</td>\n",
       "      <td>4827913</td>\n",
       "      <td>1974-05</td>\n",
       "      <td>[]</td>\n",
       "    </tr>\n",
       "    <tr>\n",
       "      <th>3</th>\n",
       "      <td>Transformation of 5 alpha-cholest-7-en-3 beta-ol to cholesterol and cholestanol in cerebrotendinous xanthomatosis.</td>\n",
       "      <td>GS Tint; G Salen</td>\n",
       "      <td>United States</td>\n",
       "      <td>The metabolism of Delta(7)-cholestenol, cholesterol, and cholestanol was examined in a patient with cerebrotendinous xanthomatosis after intravenous pulse-labeling with a mixture of dl-[2-(14)C]mevalonate and stereospecific 3S,4S,3R,4R-[4-(3)H]mevalonate. Silver nitrate and reversed-phase thin-layer chromatography were used to purify the sterols isolated from the feces, and their identities were confirmed by gas-liquid chromatography-mass spectrometry. The specific activities were determined and plotted as a function of time. Isotope ratio measurements and specific activity decay curves showed that sterol synthesis proceeded in the following sequence: mevalonate, squalene, lanosterol, Delta(7)-cholestenol, cholesterol, cholestanol. Labeled cholesterol precursors might be advantageously used to measure changes in cholesterol synthesis because they appear to equilibrate rapidly and have very short turnover times.</td>\n",
       "      <td>Journal of lipid research</td>\n",
       "      <td>4827915</td>\n",
       "      <td>1974-05</td>\n",
       "      <td>['silver']</td>\n",
       "    </tr>\n",
       "    <tr>\n",
       "      <th>4</th>\n",
       "      <td>Effects of cold exposure on heart clearing factor lipase and triglyceride utilization in the rat.</td>\n",
       "      <td>MP Rogers; DS Robinson</td>\n",
       "      <td>United States</td>\n",
       "      <td>The clearing factor lipase activity of the rat heart was measured in animals kept at 4 degrees C for several hours and was compared with that in control animals kept at 25 degrees C. The total activity of the enzyme in the heart increased markedly on exposure to the low temperature, whether the animals were in a fed or a fasted state. The activities of both the heparin-releasable and the heparin-nonreleasable enzyme fractions were usually raised. However, only increases in the former could be correlated satisfactorily with corresponding increases in the capacity of the heart to utilize chylomicron triglyceride fatty acids perfused through it. Cold exposure also raised the plasma clearing factor lipase activity and reduced the plasma triglyceride concentration. These changes may have been due, at least in part, to the alterations in the activity of the tissue enzyme.</td>\n",
       "      <td>Journal of lipid research</td>\n",
       "      <td>4827916</td>\n",
       "      <td>1974-05</td>\n",
       "      <td>[]</td>\n",
       "    </tr>\n",
       "  </tbody>\n",
       "</table>\n",
       "</div>"
      ],
      "text/plain": [
       "                                                                                                                title                  author        country                                                                                                                                                                                                                                                                                                                                                                                                                                                                                                                                                                                                                                                                                                                                                                                                                                                                                                                                                                                                                                                                                                                                                                                                                                                                                                                                                                                                                                                                                                                                                                                                                                                                                                                                                                                                                                                                                                                                                             abstract                    journal     pmid  pubdate               molecules\n",
       "0        Metabolism of isolated fat cells from various tissue sites in the rat: influence of hemorrhagic hypotension.    R Storck; JA Spitzer  United States                                                                                                                                                                                                                                                                                                                                                                                                                                                                                                                                                                                                                                                                                                                                                                                                                                                                                                                                                                                                                                                                          The in vitro lipolytic response to norepinephrine by rat adipocytes from epididymal, subcutaneous, perirenal, mesenteric, and omental tissue sites was studied in control and hypotensive animals. Lipolysis per millimole of triglyceride was found to be three to four times higher in mesenteric and omental fat cells than in adipocytes of the other sites sampled. The high lipolytic activity of mesenteric and omental adipocytes was partly attributable to their smaller cell size; however, lipolysis per cell was also higher. Hemorrhagic hypotension caused a 50-60% decrease in lipolytic activity at four of the five sites studied. Adipocytes of omental origin maintained their lipolytic activity at the prehypotensive level, however, indicating that the metabolic adjustments brought about by hemorrhagic hypotension are not uniform at all adipose tissue sites.  Journal of lipid research  4827912  1974-05      ['norepinephrine']\n",
       "1                                                         Chemical composition of uropygial gland secretions of owls.        J Jacob; J Poltz  United States                                                                                                                                                                                                                                                                                                                                                                                                                                                                                                                                                                                                                                                                                                                                                                                                                                                                                                                                                                                                                                                                                                                                                                                                                                                    The compositions of the uropygial gland secretions of the long-eared owl, eagle owl, and barn owl have been determined. The waxes of the first two owls, which are closely related, are composed of 2-alkyl-substituted fatty acids and n- or monomethyl-branched alcohols with even-numbered branching positions. In addition, some dimethyl-substituted alkanols were observed. In contrast to these waxes, the secretion of the barn owl is composed of 3-methyl- and 3,5-, 3,7-, 3,9-, 3,11-, 3,13-, and 3,15-dimethyl-branched fatty acids and n- as well as monomethyl-substituted alkanols branched at positions 2, 3, and 4. The mass spectra of esters of 2-alkyl-substituted fatty acids are discussed.  Journal of lipid research  4827914  1974-05  ['dimethyl', 'methyl']\n",
       "2                                   Production of plasma esterified cholesterol in lean, normotriglyceridemic humans.               PJ Barter  United States  The rate of production of plasma esterified cholesterol was measured both in vivo and in vitro in seven subjects and in vivo alone in eight subjects. All subjects were lean, clinically healthy, and had triglyceride concentrations less than 1.5 micro moles/ml. In vivo production was calculated from the labeling of free and esterified cholesterol in plasma samples collected at 1-hr intervals for 8 hr after an intravenous injection of [(3)H]mevalonic acid, on the assumption that plasma free cholesterol was the sole immediate precursor of esterified cholesterol. In vitro production was measured in serum samples collected 1 hr after the injection of [(3)H]mevalonic acid (when radioactivity in esterified cholesterol was very low relative to that in free cholesterol); these samples were incubated for 1 hr at 37 degrees C. The rates measured in vivo and in vitro were very similar in the seven subjects, strengthening the confidence in the techniques. In vivo production was measured during the postabsorptive state in all 15 subjects and in 5 of them also during the last 8 hr of a 32-56-hr period when all calories were taken in three hourly meals of an 80% carbohydrate, fat-free formula. In the postabsorptive state there was no apparent relationship between the production of esterified cholesterol and the concentration of either free or esterified cholesterol. Rather, despite a wide range of cholesterol concentrations, esterified cholesterol production was similar in all subjects. During the carbohydrate consumption the esterified cholesterol concentrations were significantly lower than during the postabsorptive state, but there was virtually no change in rate of production. It has been concluded that the differences in concentration of esterified cholesterol in lean, normotriglyceridemic subjects cannot be explained solely on the basis of differences in its production.  Journal of lipid research  4827913  1974-05                      []\n",
       "3  Transformation of 5 alpha-cholest-7-en-3 beta-ol to cholesterol and cholestanol in cerebrotendinous xanthomatosis.        GS Tint; G Salen  United States                                                                                                                                                                                                                                                                                                                                                                                                                                                                                                                                                                                                                                                                                                                                                                                                                                                                                                                                                                                                         The metabolism of Delta(7)-cholestenol, cholesterol, and cholestanol was examined in a patient with cerebrotendinous xanthomatosis after intravenous pulse-labeling with a mixture of dl-[2-(14)C]mevalonate and stereospecific 3S,4S,3R,4R-[4-(3)H]mevalonate. Silver nitrate and reversed-phase thin-layer chromatography were used to purify the sterols isolated from the feces, and their identities were confirmed by gas-liquid chromatography-mass spectrometry. The specific activities were determined and plotted as a function of time. Isotope ratio measurements and specific activity decay curves showed that sterol synthesis proceeded in the following sequence: mevalonate, squalene, lanosterol, Delta(7)-cholestenol, cholesterol, cholestanol. Labeled cholesterol precursors might be advantageously used to measure changes in cholesterol synthesis because they appear to equilibrate rapidly and have very short turnover times.  Journal of lipid research  4827915  1974-05              ['silver']\n",
       "4                   Effects of cold exposure on heart clearing factor lipase and triglyceride utilization in the rat.  MP Rogers; DS Robinson  United States                                                                                                                                                                                                                                                                                                                                                                                                                                                                                                                                                                                                                                                                                                                                                                                                                                                                                                                                                                                                                                                       The clearing factor lipase activity of the rat heart was measured in animals kept at 4 degrees C for several hours and was compared with that in control animals kept at 25 degrees C. The total activity of the enzyme in the heart increased markedly on exposure to the low temperature, whether the animals were in a fed or a fasted state. The activities of both the heparin-releasable and the heparin-nonreleasable enzyme fractions were usually raised. However, only increases in the former could be correlated satisfactorily with corresponding increases in the capacity of the heart to utilize chylomicron triglyceride fatty acids perfused through it. Cold exposure also raised the plasma clearing factor lipase activity and reduced the plasma triglyceride concentration. These changes may have been due, at least in part, to the alterations in the activity of the tissue enzyme.  Journal of lipid research  4827916  1974-05                      []"
      ]
     },
     "execution_count": 7,
     "metadata": {},
     "output_type": "execute_result"
    }
   ],
   "source": [
    "df['molecules'] = df['mul_list'].map(lambda x: str([xx[0] for xx in x]))\n",
    "df[['title','author','country','abstract','journal','pmid','pubdate','molecules']].head()"
   ]
  },
  {
   "cell_type": "code",
   "execution_count": 14,
   "metadata": {},
   "outputs": [
    {
     "name": "stdout",
     "output_type": "stream",
     "text": [
      "[(norepinephrine, 1)]\n"
     ]
    },
    {
     "ename": "NameError",
     "evalue": "name 'norepinephrine' is not defined",
     "output_type": "error",
     "traceback": [
      "\u001b[1;31m---------------------------------------------------------------------------\u001b[0m",
      "\u001b[1;31mNameError\u001b[0m                                 Traceback (most recent call last)",
      "\u001b[1;32m<ipython-input-14-957fd5406374>\u001b[0m in \u001b[0;36m<module>\u001b[1;34m()\u001b[0m\n\u001b[0;32m      2\u001b[0m \u001b[1;32mfor\u001b[0m \u001b[0mrow\u001b[0m \u001b[1;32min\u001b[0m \u001b[0mdf\u001b[0m\u001b[1;33m[\u001b[0m\u001b[1;34m'mul_list'\u001b[0m\u001b[1;33m]\u001b[0m\u001b[1;33m.\u001b[0m\u001b[0mvalues\u001b[0m\u001b[1;33m:\u001b[0m\u001b[1;33m\u001b[0m\u001b[0m\n\u001b[0;32m      3\u001b[0m     \u001b[1;32mprint\u001b[0m\u001b[1;33m(\u001b[0m\u001b[0mrow\u001b[0m\u001b[1;33m)\u001b[0m\u001b[1;33m\u001b[0m\u001b[0m\n\u001b[1;32m----> 4\u001b[1;33m     \u001b[1;32mfor\u001b[0m \u001b[0mmolecule\u001b[0m\u001b[1;33m,\u001b[0m \u001b[0m_\u001b[0m \u001b[1;32min\u001b[0m \u001b[0meval\u001b[0m\u001b[1;33m(\u001b[0m\u001b[0mrow\u001b[0m\u001b[1;33m)\u001b[0m\u001b[1;33m:\u001b[0m\u001b[1;33m\u001b[0m\u001b[0m\n\u001b[0m\u001b[0;32m      5\u001b[0m         \u001b[1;32mprint\u001b[0m\u001b[1;33m(\u001b[0m\u001b[0mmolecule\u001b[0m\u001b[1;33m)\u001b[0m\u001b[1;33m\u001b[0m\u001b[0m\n\u001b[0;32m      6\u001b[0m     \u001b[1;32mbreak\u001b[0m\u001b[1;33m\u001b[0m\u001b[0m\n",
      "\u001b[1;32m<string>\u001b[0m in \u001b[0;36m<module>\u001b[1;34m()\u001b[0m\n",
      "\u001b[1;31mNameError\u001b[0m: name 'norepinephrine' is not defined"
     ]
    }
   ],
   "source": [
    "molecules = []\n",
    "for row in df['mul_list'].values:\n",
    "    print(row)\n",
    "    for molecule, _ in eval(row):\n",
    "        print(molecule)\n",
    "    break"
   ]
  },
  {
   "cell_type": "code",
   "execution_count": null,
   "metadata": {},
   "outputs": [],
   "source": []
  }
 ],
 "metadata": {
  "kernelspec": {
   "display_name": "Python 3.6",
   "language": "python",
   "name": "python3.6"
  },
  "language_info": {
   "codemirror_mode": {
    "name": "ipython",
    "version": 3
   },
   "file_extension": ".py",
   "mimetype": "text/x-python",
   "name": "python",
   "nbconvert_exporter": "python",
   "pygments_lexer": "ipython3",
   "version": "3.6.6"
  }
 },
 "nbformat": 4,
 "nbformat_minor": 2
}
