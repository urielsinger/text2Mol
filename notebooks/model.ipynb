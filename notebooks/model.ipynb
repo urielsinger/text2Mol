{
 "cells": [
  {
   "cell_type": "code",
   "execution_count": 1,
   "metadata": {},
   "outputs": [
    {
     "name": "stderr",
     "output_type": "stream",
     "text": [
      "Using TensorFlow backend.\n"
     ]
    }
   ],
   "source": [
    "import sys\n",
    "sys.path.append(r\"..\\src\")\n",
    "\n",
    "from os.path import join\n",
    "import numpy as np\n",
    "\n",
    "import pandas as pd\n",
    "import networkx as nx\n",
    "import datetime\n",
    "import matplotlib.pylab as plt\n",
    "from tqdm import tqdm\n",
    "\n",
    "import utils\n",
    "import loader\n",
    "\n",
    "%load_ext autoreload\n",
    "%autoreload 2\n",
    "\n",
    "from keras.layers import Input, Dense, LSTM, RepeatVector\n",
    "from keras.models import Model, Sequential\n",
    "\n",
    "from sklearn.neighbors import NearestNeighbors\n",
    "from sklearn.model_selection import train_test_split"
   ]
  },
  {
   "cell_type": "code",
   "execution_count": 2,
   "metadata": {},
   "outputs": [],
   "source": [
    "molecules_df = loader.get_molecules_df()\n",
    "name2vec = {row['name'].lower(): utils.smile2vec(row['smile']) for _,row in molecules_df.iterrows()}"
   ]
  },
  {
   "cell_type": "code",
   "execution_count": 3,
   "metadata": {},
   "outputs": [],
   "source": [
    "papers_df = pd.read_csv('..\\data\\papers.csv', usecols=['abstract','mul_list'], nrows=10000)\n",
    "num_papers = len(papers_df)\n",
    "train_indices, test_indices = train_test_split(np.arange(num_papers), test_size=0.2)"
   ]
  },
  {
   "cell_type": "code",
   "execution_count": 4,
   "metadata": {},
   "outputs": [],
   "source": [
    "text_model = utils.coupus2model(papers_df['abstract'].values, size=100, window=5, min_count=3)"
   ]
  },
  {
   "cell_type": "code",
   "execution_count": 5,
   "metadata": {},
   "outputs": [],
   "source": [
    "def generate_dataset(indices, batch_size=32):\n",
    "    cur_batch, X, y, names = 0, [], [], []\n",
    "    \n",
    "    for _, row in papers_df.iloc[indices].iterrows():\n",
    "        if cur_batch >= batch_size:\n",
    "            max_len = max([len(cur_x) for cur_x in X])\n",
    "            X = np.array([np.concatenate([np.zeros((max_len-len(cur_x),len(cur_x[0]))),cur_x]) for cur_x in X])\n",
    "            y = np.array(y)\n",
    "            names = np.array(names)\n",
    "            yield X, y, names\n",
    "            cur_batch, X, y, names = 0, [], [], []\n",
    "            \n",
    "        mul_list = eval(row['mul_list'])\n",
    "        if len(mul_list) > 0:\n",
    "            cur_X = [text_model.wv[word] for word in row['abstract'] if word in text_model.wv]\n",
    "            for name,_ in mul_list:\n",
    "                if name in name2vec:\n",
    "                    y.append(name2vec[name])\n",
    "                    X.append(cur_X)\n",
    "                    names.append(name)\n",
    "                    cur_batch += 1\n",
    "    \n",
    "    if len(X) > 0:\n",
    "        max_len = max([len(cur_x) for cur_x in X])\n",
    "        X = np.array([np.concatenate([np.zeros((max_len-len(cur_x),len(cur_x[0]))),cur_x]) for cur_x in X])\n",
    "        y = np.array(y)\n",
    "        names = np.array(names)\n",
    "        yield X, y, names"
   ]
  },
  {
   "cell_type": "code",
   "execution_count": 6,
   "metadata": {},
   "outputs": [],
   "source": [
    "paper2smile_model = Sequential()\n",
    "paper2smile_model.add(LSTM(100,input_shape=(None,100)))\n",
    "paper2smile_model.add(Dense(100))\n",
    "\n",
    "paper2smile_model.compile(optimizer='adam', loss='cosine_proximity')"
   ]
  },
  {
   "cell_type": "code",
   "execution_count": 7,
   "metadata": {
    "scrolled": true
   },
   "outputs": [
    {
     "name": "stdout",
     "output_type": "stream",
     "text": [
      "[PARENT EPOCH] epoch 1...\n",
      "[PARENT EPOCH] epoch 2...\n",
      "[PARENT EPOCH] epoch 3...\n",
      "[PARENT EPOCH] epoch 4...\n",
      "[PARENT EPOCH] epoch 5...\n"
     ]
    }
   ],
   "source": [
    "for epoch in np.arange(0, 5):\n",
    "    print(\"[PARENT EPOCH] epoch {}...\".format(epoch + 1))\n",
    "    for X, y, _ in generate_dataset(train_indices, batch_size=32):\n",
    "        paper2smile_model.train_on_batch(X,y)"
   ]
  },
  {
   "cell_type": "code",
   "execution_count": 13,
   "metadata": {},
   "outputs": [
    {
     "name": "stdout",
     "output_type": "stream",
     "text": [
      "0/32 = 0.0%\n",
      "0/64 = 0.0%\n",
      "0/96 = 0.0%\n",
      "0/128 = 0.0%\n",
      "0/160 = 0.0%\n",
      "0/192 = 0.0%\n",
      "0/227 = 0.0%\n",
      "0/259 = 0.0%\n",
      "0/291 = 0.0%\n",
      "0/323 = 0.0%\n",
      "0/355 = 0.0%\n",
      "0/387 = 0.0%\n",
      "0/421 = 0.0%\n",
      "0/455 = 0.0%\n",
      "0/487 = 0.0%\n",
      "0/519 = 0.0%\n",
      "0/551 = 0.0%\n",
      "0/584 = 0.0%\n",
      "0/598 = 0.0%\n"
     ]
    }
   ],
   "source": [
    "num_samples, right = 0, 0\n",
    "pred_indices, true_indices = [], []\n",
    "all_names = list(name2vec.keys())\n",
    "all_vecs = [name2vec[name] for name in all_names]\n",
    "\n",
    "nbrs = NearestNeighbors(n_neighbors=1, algorithm='auto', metric='cosine').fit(all_vecs)\n",
    "for X_test, y_test, names in generate_dataset(test_indices):\n",
    "    cur_pred_indices = list(nbrs.kneighbors(paper2smile_model.predict_on_batch(X_test), return_distance=False).flatten())\n",
    "    cur_true_indices = [all_names.index(name) for name in names]\n",
    "    num_samples += len(cur_pred_indices)\n",
    "    right += sum(np.array(cur_pred_indices) == cur_true_indices)\n",
    "    print(f'{right}/{num_samples} = {100*right/num_samples}%')\n",
    "    pred_indices += cur_pred_indices\n",
    "    true_indices += cur_true_indices"
   ]
  },
  {
   "cell_type": "code",
   "execution_count": null,
   "metadata": {},
   "outputs": [],
   "source": []
  }
 ],
 "metadata": {
  "kernelspec": {
   "display_name": "Python 3.6",
   "language": "python",
   "name": "python3.6"
  },
  "language_info": {
   "codemirror_mode": {
    "name": "ipython",
    "version": 3
   },
   "file_extension": ".py",
   "mimetype": "text/x-python",
   "name": "python",
   "nbconvert_exporter": "python",
   "pygments_lexer": "ipython3",
   "version": "3.6.6"
  }
 },
 "nbformat": 4,
 "nbformat_minor": 2
}
